{
  "nbformat": 4,
  "nbformat_minor": 0,
  "metadata": {
    "colab": {
      "name": "Linear_Regression.ipynb",
      "provenance": []
    },
    "kernelspec": {
      "name": "python3",
      "display_name": "Python 3"
    },
    "language_info": {
      "name": "python"
    }
  },
  "cells": [
    {
      "cell_type": "code",
      "metadata": {
        "id": "hsVC4pOQArks"
      },
      "source": [
        "import numpy as np\n",
        "import matplotlib.pyplot as plt"
      ],
      "execution_count": 21,
      "outputs": []
    },
    {
      "cell_type": "code",
      "metadata": {
        "id": "-iRgY_SduBZ5"
      },
      "source": [
        "# coeficient funciton:\n",
        "def coef(x,y):\n",
        "  n = np.size(x) # number of point\n",
        "  mean_x = np.mean(x);\n",
        "  mean_y = np.mean(y);\n",
        "  D_xy = np.sum(x*y)- n*mean_x*mean_y\n",
        "  D_xx = np.sum(x*x)-n*mean_x*mean_x\n",
        "  b_1 = D_xy/D_xx\n",
        "  b_0 = mean_y - b_1*mean_x\n",
        "  return(b_0,b_1)"
      ],
      "execution_count": 22,
      "outputs": []
    },
    {
      "cell_type": "code",
      "metadata": {
        "id": "miCLhrtKHqiN"
      },
      "source": [
        "def plot_line(x,y,b):\n",
        "  plt.scatter(x,y, marker = \"o\")\n",
        "  y_pred = b[0] + x*b[1]\n",
        "  plt.plot(x,y_pred)\n",
        "  plt.xlabel('x')\n",
        "  plt.xlabel('Y')\n",
        "  plt.show()"
      ],
      "execution_count": 23,
      "outputs": []
    },
    {
      "cell_type": "code",
      "metadata": {
        "id": "Lk8crBmkIzqq"
      },
      "source": [
        "def main():\n",
        "  x = np.array([0, 1, 2, 3, 4, 5, 6, 7, 8, 9])\n",
        "  y = np.array([1, 3, 2, 5, 7, 8, 8, 9, 10, 12])\n",
        "  b = coef(x, y)\n",
        "  #  print(\"Estimated coefficients:\\nb_0 = {}  \\\n",
        "   #       \\nb_1 = {}\".format(b[0], b[1]))\n",
        " \n",
        "    # plotting regression line\n",
        "  plot_line(x, y, b)\n"
      ],
      "execution_count": 24,
      "outputs": []
    },
    {
      "cell_type": "code",
      "metadata": {
        "colab": {
          "base_uri": "https://localhost:8080/",
          "height": 279
        },
        "id": "L_dxw1ApJ1-X",
        "outputId": "2a6505ee-85a2-4a8e-eef0-1fa76e1d51ed"
      },
      "source": [
        " if __name__ == \"__main__\":\n",
        "    main()"
      ],
      "execution_count": 25,
      "outputs": [
        {
          "output_type": "display_data",
          "data": {
            "image/png": "[encoded data removed]",
            "text/plain": [
              "<Figure size 432x288 with 1 Axes>"
            ]
          },
          "metadata": {
            "tags": [],
            "needs_background": "light"
          }
        }
      ]
    }
  ]
}